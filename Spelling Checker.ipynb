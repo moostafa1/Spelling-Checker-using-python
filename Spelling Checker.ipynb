{
 "cells": [
  {
   "cell_type": "markdown",
   "id": "12e6fe76",
   "metadata": {},
   "source": [
    "#### Using this [dictionary](https://drive.google.com/file/d/1auBxur3HUK0AOBq1pBQTcnXJtqgin9VF/view?usp=sharing), implement a spell checker class that takes this dictionary as input, this class has three main operations:\n",
    "- Store this dictionary in a suitable data structure.\n",
    "- Take an input word and return the nearest 4 words if this word is not in the dictionary\n",
    "- Take an input word and add this word to the dictionary\n",
    "\n",
    "For each operation specify the time and space complexity\n",
    "Note: You could assume that the nearest 4 words from a word are the 2 words before and \n",
    "after this word in lexicographic order if they exist"
   ]
  },
  {
   "cell_type": "code",
   "execution_count": 1,
   "id": "994657a5",
   "metadata": {},
   "outputs": [],
   "source": [
    "from Spell_Checker import Spell_Checker"
   ]
  },
  {
   "cell_type": "code",
   "execution_count": 2,
   "id": "58d3132a",
   "metadata": {},
   "outputs": [],
   "source": [
    "create = Spell_Checker().create_dictionary_of_words()"
   ]
  },
  {
   "cell_type": "code",
   "execution_count": 3,
   "id": "3941d086",
   "metadata": {
    "scrolled": false
   },
   "outputs": [
    {
     "name": "stdout",
     "output_type": "stream",
     "text": [
      "words_per_letter: {'a': 5105, 'b': 4833, 'c': 8093, 'd': 5585, 'e': 3609, 'f': 3554, 'g': 2675, 'h': 3016, 'i': 3521, 'j': 806, 'k': 697, 'l': 2521, 'm': 4653, 'n': 1480, 'o': 2223, 'p': 6551, 'q': 447, 'r': 4891, 's': 9154, 't': 4207, 'u': 2671, 'v': 1371, 'w': 1963, 'x': 46, 'y': 231, 'z': 166}\n",
      "total_words_count: 84069\n",
      "Execution Time for function (words_per_letter): 0.0\n",
      "\n",
      "\n"
     ]
    }
   ],
   "source": [
    "create = Spell_Checker().create_dictionary_of_words(1)"
   ]
  },
  {
   "cell_type": "code",
   "execution_count": 4,
   "id": "16e7755d",
   "metadata": {},
   "outputs": [
    {
     "name": "stdout",
     "output_type": "stream",
     "text": [
      "words_per_letter: {'a': 5105, 'b': 4833, 'c': 8093, 'd': 5585, 'e': 3609, 'f': 3554, 'g': 2675, 'h': 3016, 'i': 3521, 'j': 806, 'k': 697, 'l': 2521, 'm': 4653, 'n': 1480, 'o': 2223, 'p': 6551, 'q': 447, 'r': 4891, 's': 9154, 't': 4207, 'u': 2671, 'v': 1371, 'w': 1963, 'x': 46, 'y': 231, 'z': 166}\n",
      "total_words_count: 84069\n",
      "Execution Time for function (words_per_letter): 0.0\n",
      "\n",
      "\n"
     ]
    },
    {
     "data": {
      "image/png": "[encoded data removed]",
      "text/plain": [
       "<Figure size 640x480 with 1 Axes>"
      ]
     },
     "metadata": {},
     "output_type": "display_data"
    },
    {
     "name": "stdout",
     "output_type": "stream",
     "text": [
      "Execution Time for function (plotting_letters_num): 0.34022951126098633\n",
      "\n",
      "\n"
     ]
    }
   ],
   "source": [
    "create = Spell_Checker().create_dictionary_of_words(1, 1)"
   ]
  },
  {
   "cell_type": "code",
   "execution_count": 5,
   "id": "feb1bc03",
   "metadata": {},
   "outputs": [
    {
     "name": "stdout",
     "output_type": "stream",
     "text": [
      "words_per_letter: {'a': 5105, 'b': 4833, 'c': 8093, 'd': 5585, 'e': 3609, 'f': 3554, 'g': 2675, 'h': 3016, 'i': 3521, 'j': 806, 'k': 697, 'l': 2521, 'm': 4653, 'n': 1480, 'o': 2223, 'p': 6551, 'q': 447, 'r': 4891, 's': 9154, 't': 4207, 'u': 2671, 'v': 1371, 'w': 1963, 'x': 46, 'y': 231, 'z': 166}\n",
      "total_words_count: 84069\n"
     ]
    }
   ],
   "source": [
    "letter_to_words, _ = Spell_Checker(\"dictionary.txt\").words_per_letter(create)"
   ]
  },
  {
   "cell_type": "code",
   "execution_count": 6,
   "id": "daa6a5d0",
   "metadata": {},
   "outputs": [
    {
     "name": "stdout",
     "output_type": "stream",
     "text": [
      "{'a': 5105, 'b': 4833, 'c': 8093, 'd': 5585, 'e': 3609, 'f': 3554, 'g': 2675, 'h': 3016, 'i': 3521, 'j': 806, 'k': 697, 'l': 2521, 'm': 4653, 'n': 1480, 'o': 2223, 'p': 6551, 'q': 447, 'r': 4891, 's': 9154, 't': 4207, 'u': 2671, 'v': 1371, 'w': 1963, 'x': 46, 'y': 231, 'z': 166} <class 'dict'>\n"
     ]
    }
   ],
   "source": [
    "print(letter_to_words, type(letter_to_words))"
   ]
  },
  {
   "cell_type": "code",
   "execution_count": 7,
   "id": "08959468",
   "metadata": {},
   "outputs": [
    {
     "data": {
      "image/png": "[encoded data removed]",
      "text/plain": [
       "<Figure size 640x480 with 1 Axes>"
      ]
     },
     "metadata": {},
     "output_type": "display_data"
    }
   ],
   "source": [
    "Spell_Checker(\"dictionary.txt\").plotting_letters_num(letter_to_words)"
   ]
  },
  {
   "cell_type": "code",
   "execution_count": 8,
   "id": "171a435e",
   "metadata": {},
   "outputs": [
    {
     "name": "stdout",
     "output_type": "stream",
     "text": [
      "Enter the word(s) you want to search for: happy, saud, south\n",
      "you entered: ['happy', 'saud', 'south']\n",
      "Word (happy) already found in the dictionary in the (443) postition of letter (h)\n",
      "\n",
      "\n",
      "Word (saud) not found\n",
      "The nearest words for it are: ['sad', 'said', 'sand', 'saudi']\n",
      "\n",
      "\n",
      "Word (south) already found in the dictionary in the (5219) postition of letter (s)\n",
      "\n",
      "\n"
     ]
    }
   ],
   "source": [
    "check = Spell_Checker(\"dictionary.txt\").spell_checking(create)"
   ]
  },
  {
   "cell_type": "code",
   "execution_count": 9,
   "id": "80195908",
   "metadata": {},
   "outputs": [],
   "source": [
    "def is_added_to_dict(words_lst, old_dict, updated_dict):\n",
    "    words_lst = words_lst.split(\",\")\n",
    "    words_lst = [w.lower().strip() for w in words_lst]\n",
    "    for word in words_lst:\n",
    "        print(len(old_dict[word[0]]), len(updated_dict[word[0]]))\n",
    "        print(word in old_dict[word[0]], word in updated_dict[word[0]])"
   ]
  },
  {
   "cell_type": "code",
   "execution_count": 10,
   "id": "435de6c4",
   "metadata": {},
   "outputs": [
    {
     "name": "stdout",
     "output_type": "stream",
     "text": [
      "Enter the word(s) you want to insert: friends, dola, ramzy\n",
      "you entered: ['friends', 'dola', 'ramzy']\n",
      "Word already found in the dictionary in the (3095) postition of letter (f)\n",
      "\n",
      "\n",
      "Enter your password to allow adding to the dictionary: authenticated_1\n",
      "(dola) successfully added to the dictionary in the (4443) postition of letter (d)\n",
      "The vocabulary in the (d) was 5585, but it becomes 5586\n",
      "\n",
      "\n",
      "(ramzy) successfully added to the dictionary in the (323) postition of letter (r)\n",
      "The vocabulary in the (r) was 4891, but it becomes 4892\n",
      "\n",
      "\n"
     ]
    }
   ],
   "source": [
    "insert = Spell_Checker(\"dictionary.txt\").updating_dictionary(create)"
   ]
  },
  {
   "cell_type": "code",
   "execution_count": 11,
   "id": "7af1f55f",
   "metadata": {},
   "outputs": [
    {
     "name": "stdout",
     "output_type": "stream",
     "text": [
      "3554 3554\n",
      "True True\n",
      "5585 5586\n",
      "False True\n",
      "4891 4892\n",
      "False True\n"
     ]
    }
   ],
   "source": [
    "is_added_to_dict(\"friends, dola, ramzy\", create, insert)"
   ]
  },
  {
   "cell_type": "code",
   "execution_count": 12,
   "id": "5f5e5d99",
   "metadata": {},
   "outputs": [
    {
     "name": "stdout",
     "output_type": "stream",
     "text": [
      "Enter the word(s) you want to search for: dola, ramzy, goal, goated\n",
      "you entered: ['dola', 'ramzy', 'goal', 'goated']\n",
      "Word (dola) not found\n",
      "The nearest words for it are: ['doha', 'dole', 'doli', 'doll']\n",
      "\n",
      "\n",
      "Word (ramzy) not found\n",
      "The nearest words for it are: ['racy', 'rainy', 'rally', 'ram']\n",
      "\n",
      "\n",
      "Word (goal) already found in the dictionary in the (1383) postition of letter (g)\n",
      "\n",
      "\n",
      "Word (goated) not found\n",
      "The nearest words for it are: ['gated', 'gloated', 'goaded', 'goatee']\n",
      "\n",
      "\n"
     ]
    }
   ],
   "source": [
    "Spell_Checker(\"dictionary.txt\").spell_checking(create)"
   ]
  },
  {
   "cell_type": "code",
   "execution_count": 13,
   "id": "d0f1aac5",
   "metadata": {},
   "outputs": [
    {
     "name": "stdout",
     "output_type": "stream",
     "text": [
      "Enter the word(s) you want to search for: friends, dola, ramzy, goal, goated\n",
      "you entered: ['friends', 'dola', 'ramzy', 'goal', 'goated']\n",
      "Word (friends) already found in the dictionary in the (3095) postition of letter (f)\n",
      "\n",
      "\n",
      "Word (dola) already found in the dictionary in the (4443) postition of letter (d)\n",
      "\n",
      "\n",
      "Word (ramzy) already found in the dictionary in the (323) postition of letter (r)\n",
      "\n",
      "\n",
      "Word (goal) already found in the dictionary in the (1383) postition of letter (g)\n",
      "\n",
      "\n",
      "Word (goated) not found\n",
      "The nearest words for it are: ['gated', 'gloated', 'goaded', 'goatee']\n",
      "\n",
      "\n"
     ]
    }
   ],
   "source": [
    "Spell_Checker(\"dictionary.txt\").spell_checking(insert)"
   ]
  },
  {
   "cell_type": "code",
   "execution_count": 14,
   "id": "7b7bcab4",
   "metadata": {},
   "outputs": [
    {
     "name": "stdout",
     "output_type": "stream",
     "text": [
      "Enter the word(s) you want to insert: youtube, insta\n",
      "you entered: ['youtube', 'insta']\n",
      "Enter your password to allow adding to the dictionary: authenticated_1\n",
      "(youtube) successfully added to the dictionary in the (201) postition of letter (y)\n",
      "The vocabulary in the (y) was 231, but it becomes 232\n",
      "\n",
      "\n",
      "(insta) successfully added to the dictionary in the (2260) postition of letter (i)\n",
      "The vocabulary in the (i) was 3521, but it becomes 3522\n",
      "\n",
      "\n"
     ]
    }
   ],
   "source": [
    "insert = Spell_Checker(\"dictionary.txt\").updating_dictionary(insert)"
   ]
  },
  {
   "cell_type": "code",
   "execution_count": 15,
   "id": "668cd2c2",
   "metadata": {},
   "outputs": [
    {
     "name": "stdout",
     "output_type": "stream",
     "text": [
      "2675 2675\n",
      "False False\n",
      "231 232\n",
      "False True\n",
      "3521 3522\n",
      "False True\n"
     ]
    }
   ],
   "source": [
    "is_added_to_dict(\"google, youtube, insta\", create, insert)"
   ]
  },
  {
   "cell_type": "code",
   "execution_count": 16,
   "id": "7687fe32",
   "metadata": {},
   "outputs": [
    {
     "name": "stdout",
     "output_type": "stream",
     "text": [
      "Enter the word(s) you want to insert: google, sponge=bob\n",
      "you entered: ['google', 'sponge=bob']\n",
      "Enter your password to allow adding to the dictionary: authenticated_1\n",
      "(google) successfully added to the dictionary in the (1538) postition of letter (g)\n",
      "The vocabulary in the (g) was 2675, but it becomes 2676\n",
      "\n",
      "\n",
      "(sponge=bob) successfully added to the dictionary in the (5812) postition of letter (s)\n",
      "The vocabulary in the (s) was 9154, but it becomes 9155\n",
      "\n",
      "\n"
     ]
    }
   ],
   "source": [
    "insert = Spell_Checker(\"dictionary.txt\").updating_dictionary(insert)"
   ]
  },
  {
   "cell_type": "code",
   "execution_count": 17,
   "id": "383ab0c1",
   "metadata": {
    "scrolled": true
   },
   "outputs": [
    {
     "name": "stdout",
     "output_type": "stream",
     "text": [
      "Enter the word(s) you want to search for: google, sponge-bob, saltaa\n",
      "you entered: ['google', 'sponge-bob', 'saltaa']\n",
      "Word (google) not found\n",
      "The nearest words for it are: ['goggle', 'googly', 'goole', 'gaggle']\n",
      "\n",
      "\n",
      "Word (sponge-bob) not found\n",
      "The nearest words for it are: ['sponge', 'sponged', 'sponger', 'spongers']\n",
      "\n",
      "\n",
      "Word (saltaa) not found\n",
      "The nearest words for it are: ['salaam', 'salad', 'saliva', 'salsa']\n",
      "\n",
      "\n"
     ]
    }
   ],
   "source": [
    "Spell_Checker().spell_checking(create)"
   ]
  },
  {
   "cell_type": "code",
   "execution_count": 18,
   "id": "103f6169",
   "metadata": {},
   "outputs": [
    {
     "name": "stdout",
     "output_type": "stream",
     "text": [
      "Enter the word(s) you want to search for: google, sponge-bob, saltaa\n",
      "you entered: ['google', 'sponge-bob', 'saltaa']\n",
      "Word (google) already found in the dictionary in the (1538) postition of letter (g)\n",
      "\n",
      "\n",
      "Word (sponge-bob) not found\n",
      "The nearest words for it are: ['sponge=bob', 'sponge', 'sponged', 'sponger']\n",
      "\n",
      "\n",
      "Word (saltaa) not found\n",
      "The nearest words for it are: ['salaam', 'salad', 'saliva', 'salsa']\n",
      "\n",
      "\n"
     ]
    }
   ],
   "source": [
    "Spell_Checker().spell_checking(insert)"
   ]
  },
  {
   "cell_type": "code",
   "execution_count": 19,
   "id": "bd4f4fc8",
   "metadata": {},
   "outputs": [
    {
     "name": "stdout",
     "output_type": "stream",
     "text": [
      "9154 9155\n",
      "False False\n",
      "9154 9155\n",
      "False False\n",
      "9154 9155\n",
      "False True\n"
     ]
    }
   ],
   "source": [
    "is_added_to_dict(\"sponge-bob, saltaa, sponge=bob\", create, insert)"
   ]
  },
  {
   "cell_type": "code",
   "execution_count": 20,
   "id": "8a8489f6",
   "metadata": {},
   "outputs": [
    {
     "name": "stdout",
     "output_type": "stream",
     "text": [
      "The created dictionary is saved in updated_dictionary.txt file\n",
      "\n",
      "\n"
     ]
    }
   ],
   "source": [
    "Spell_Checker(\"dictionary.txt\").save_dictionary_dict(insert, \"updated_dictionary\")"
   ]
  },
  {
   "cell_type": "code",
   "execution_count": 21,
   "id": "d3021e14",
   "metadata": {},
   "outputs": [
    {
     "name": "stdout",
     "output_type": "stream",
     "text": [
      "words_per_letter: {'a': 5105, 'b': 4833, 'c': 8093, 'd': 5586, 'e': 3609, 'f': 3554, 'g': 2676, 'h': 3016, 'i': 3522, 'j': 806, 'k': 697, 'l': 2521, 'm': 4653, 'n': 1480, 'o': 2223, 'p': 6551, 'q': 447, 'r': 4892, 's': 9155, 't': 4207, 'u': 2671, 'v': 1371, 'w': 1963, 'x': 46, 'y': 232, 'z': 166}\n",
      "total_words_count: 84075\n",
      "Execution Time for function (words_per_letter): 0.0\n",
      "\n",
      "\n"
     ]
    }
   ],
   "source": [
    "loaded_dict = Spell_Checker(\"updated_dictionary.txt\").create_dictionary_of_words(1)"
   ]
  },
  {
   "cell_type": "code",
   "execution_count": 22,
   "id": "8dae6325",
   "metadata": {},
   "outputs": [
    {
     "name": "stdout",
     "output_type": "stream",
     "text": [
      "words_per_letter: {'a': 5105, 'b': 4833, 'c': 8093, 'd': 5586, 'e': 3609, 'f': 3554, 'g': 2676, 'h': 3016, 'i': 3522, 'j': 806, 'k': 697, 'l': 2521, 'm': 4653, 'n': 1480, 'o': 2223, 'p': 6551, 'q': 447, 'r': 4892, 's': 9155, 't': 4207, 'u': 2671, 'v': 1371, 'w': 1963, 'x': 46, 'y': 232, 'z': 166}\n",
      "total_words_count: 84075\n",
      "Execution Time for function (words_per_letter): 0.0\n",
      "\n",
      "\n"
     ]
    },
    {
     "data": {
      "image/png": "[encoded data removed]",
      "text/plain": [
       "<Figure size 640x480 with 1 Axes>"
      ]
     },
     "metadata": {},
     "output_type": "display_data"
    },
    {
     "name": "stdout",
     "output_type": "stream",
     "text": [
      "Execution Time for function (plotting_letters_num): 0.397658109664917\n",
      "\n",
      "\n"
     ]
    }
   ],
   "source": [
    "loaded_dict = Spell_Checker(\"updated_dictionary.txt\").create_dictionary_of_words(1, 1)"
   ]
  },
  {
   "cell_type": "code",
   "execution_count": 23,
   "id": "84deeb88",
   "metadata": {},
   "outputs": [
    {
     "name": "stdout",
     "output_type": "stream",
     "text": [
      "Enter the word(s) you want to search for: sponge-bob, sponge=bob\n",
      "you entered: ['sponge-bob', 'sponge=bob']\n",
      "Word (sponge-bob) not found\n",
      "The nearest words for it are: ['sponge=bob', 'sponge', 'sponged', 'sponger']\n",
      "\n",
      "\n",
      "Word (sponge=bob) already found in the dictionary in the (5812) postition of letter (s)\n",
      "\n",
      "\n"
     ]
    }
   ],
   "source": [
    "check_loaded = Spell_Checker(\"updated_dictionary.txt\").spell_checking(loaded_dict)"
   ]
  },
  {
   "cell_type": "code",
   "execution_count": 24,
   "id": "914ea248",
   "metadata": {},
   "outputs": [
    {
     "data": {
      "text/plain": [
       "True"
      ]
     },
     "execution_count": 24,
     "metadata": {},
     "output_type": "execute_result"
    }
   ],
   "source": [
    "loaded_dict == insert"
   ]
  },
  {
   "cell_type": "code",
   "execution_count": 25,
   "id": "f130770f",
   "metadata": {},
   "outputs": [
    {
     "name": "stdout",
     "output_type": "stream",
     "text": [
      "Enter the word(s) you want to insert: grass, shafik\n",
      "you entered: ['grass', 'shafik']\n",
      "Word already found in the dictionary in the (1856) postition of letter (g)\n",
      "\n",
      "\n",
      "Enter your password to allow adding to the dictionary: authenticated_1\n",
      "(shafik) successfully added to the dictionary in the (2409) postition of letter (s)\n",
      "The vocabulary in the (s) was 9155, but it becomes 9156\n",
      "\n",
      "\n"
     ]
    }
   ],
   "source": [
    "add = Spell_Checker(\"dictionary.txt\").updating_dictionary(insert)"
   ]
  },
  {
   "cell_type": "code",
   "execution_count": 26,
   "id": "e69f3a47",
   "metadata": {},
   "outputs": [
    {
     "name": "stdout",
     "output_type": "stream",
     "text": [
      "Enter the word(s) you want to remove: insta, saltaa\n",
      "you entered: ['insta', 'saltaa']\n",
      "Enter your password to allow removing from the dictionary: authenticated_1\n",
      "Word (insta) has been removed\n",
      "The vocabulary in the (i) was 3522, but it becomes 3521\n",
      "\n",
      "\n",
      "Word (saltaa) not found\n",
      "\n",
      "\n"
     ]
    }
   ],
   "source": [
    "remove = Spell_Checker(\"dictionary.txt\").remove_vocab(insert)"
   ]
  },
  {
   "cell_type": "code",
   "execution_count": 27,
   "id": "51d46bff",
   "metadata": {},
   "outputs": [
    {
     "name": "stdout",
     "output_type": "stream",
     "text": [
      "Enter the word(s) you want to remove: saltaa, sponge-bob, sponge=bob\n",
      "you entered: ['saltaa', 'sponge-bob', 'sponge=bob']\n",
      "Word (saltaa) not found\n",
      "\n",
      "\n",
      "Word (sponge-bob) not found\n",
      "\n",
      "\n",
      "Enter your password to allow removing from the dictionary: authenticated_1\n",
      "Word (sponge=bob) has been removed\n",
      "The vocabulary in the (s) was 9155, but it becomes 9154\n",
      "\n",
      "\n"
     ]
    }
   ],
   "source": [
    "remove = Spell_Checker(\"dictionary.txt\").remove_vocab(remove)"
   ]
  },
  {
   "cell_type": "code",
   "execution_count": 29,
   "id": "de36184a",
   "metadata": {},
   "outputs": [
    {
     "name": "stdout",
     "output_type": "stream",
     "text": [
      "9155 9154\n",
      "False False\n",
      "9155 9154\n",
      "True False\n"
     ]
    }
   ],
   "source": [
    "is_added_to_dict(\"sponge-bob, sponge=bob\", insert, remove)"
   ]
  },
  {
   "cell_type": "code",
   "execution_count": 30,
   "id": "d4b7d3ae",
   "metadata": {},
   "outputs": [
    {
     "name": "stdout",
     "output_type": "stream",
     "text": [
      "Execution Time for function (create_dictionary_of_words): 11.741323709487915\n",
      "\n",
      "\n",
      "Enter the word(s) you want to search for: grass, sponge-bob, youtube\n",
      "you entered: ['grass', 'sponge-bob', 'youtube']\n",
      "Word (grass) already found in the dictionary in the (1855) postition of letter (g)\n",
      "\n",
      "\n",
      "Word (sponge-bob) not found\n",
      "The nearest words for it are: ['sponge', 'sponged', 'sponger', 'spongers']\n",
      "\n",
      "\n",
      "Word (youtube) not found\n",
      "The nearest words for it are: ['yoruba', 'youth', 'youths', 'yob']\n",
      "\n",
      "\n",
      "Execution Time for function (spell_checking): 50.59248638153076\n",
      "\n",
      "\n",
      "Enter the word(s) you want to insert: gas, youtube, insta\n",
      "you entered: ['gas', 'youtube', 'insta']\n",
      "Word already found in the dictionary in the (362) postition of letter (g)\n",
      "\n",
      "\n",
      "Enter your password to allow adding to the dictionary: authenticated_1\n",
      "(youtube) successfully added to the dictionary in the (201) postition of letter (y)\n",
      "The vocabulary in the (y) was 231, but it becomes 232\n",
      "\n",
      "\n",
      "(insta) successfully added to the dictionary in the (2260) postition of letter (i)\n",
      "The vocabulary in the (i) was 3521, but it becomes 3522\n",
      "\n",
      "\n",
      "Execution Time for function (updating_dictionary): 38.69099020957947\n",
      "\n",
      "\n",
      "Filename: C:\\Users\\Mustafa\\Desktop\\WIDEBOT INTERN\\Spelling Checker\\Spell_Checker.py\n",
      "\n",
      "Line #    Mem usage    Increment  Occurrences   Line Contents\n",
      "=============================================================\n",
      "   180 132.1992 MiB 132.1992 MiB           1       @profile(precision = 4)\n",
      "   181                                             def main(self, flag = [\"NULL\"], fname = \"saved_dic.txt\"):\n",
      "   182 132.1992 MiB   0.0000 MiB           6           flag = [word.lower() for word in flag]\n",
      "   183                                         \n",
      "   184 132.1992 MiB   0.0000 MiB           1           if \"create\" in flag:\n",
      "   185 132.1992 MiB   0.0000 MiB           1               start = time.time()\n",
      "   186 138.6211 MiB   6.4219 MiB           1               letter_to_words = self.create_dictionary_of_words(print_status = False)\n",
      "   187 138.6211 MiB   0.0000 MiB           1               print(f\"Execution Time for function (create_dictionary_of_words): {time.time() - start}\\n\\n\")\n",
      "   188                                         \n",
      "   189 138.6211 MiB   0.0000 MiB           1               if \"check\" in flag:\n",
      "   190 138.6211 MiB   0.0000 MiB           1                   start = time.time()\n",
      "   191 138.5859 MiB  -0.0352 MiB           1                   self.spell_checking(letter_to_words)\n",
      "   192 138.5859 MiB   0.0000 MiB           1                   print(f\"Execution Time for function (spell_checking): {time.time() - start}\\n\\n\")\n",
      "   193                                         \n",
      "   194 138.5859 MiB   0.0000 MiB           1               if \"update\" in flag:\n",
      "   195 138.5859 MiB   0.0000 MiB           1                   start = time.time()\n",
      "   196 138.6836 MiB   0.0977 MiB           1                   updated_dic = self.updating_dictionary(letter_to_words)\n",
      "   197 138.6836 MiB   0.0000 MiB           1                   print(f\"Execution Time for function (updating_dictionary): {time.time() - start}\\n\\n\")\n",
      "   198                                         \n",
      "   199 138.6836 MiB   0.0000 MiB           1                   if \"remove\" in flag:\n",
      "   200                                                             start = time.time()\n",
      "   201                                                             self.remove_vocab(updated_dic)\n",
      "   202                                                             print(f\"Execution Time for function (remove_vocab): {time.time() - start}\\n\\n\")\n",
      "   203                                         \n",
      "   204 138.6836 MiB   0.0000 MiB           1                   if \"save\" in flag:\n",
      "   205                                                             start = time.time()\n",
      "   206                                                             self.save_dictionary_dict(updated_dic, fname)\n",
      "   207                                                             print(f\"Execution Time for function (remove_vocab): {time.time() - start}\\n\\n\")\n",
      "\n",
      "\n"
     ]
    }
   ],
   "source": [
    "Spell_Checker().main([\"create\", \"check\", \"update\"])"
   ]
  },
  {
   "cell_type": "code",
   "execution_count": 31,
   "id": "a20b0e07",
   "metadata": {},
   "outputs": [
    {
     "name": "stdout",
     "output_type": "stream",
     "text": [
      "Execution Time for function (create_dictionary_of_words): 11.636866331100464\n",
      "\n",
      "\n",
      "Enter the word(s) you want to search for: solver, horser, insta, google\n",
      "you entered: ['solver', 'horser', 'insta', 'google']\n",
      "Word (solver) already found in the dictionary in the (4968) postition of letter (s)\n",
      "\n",
      "\n",
      "Word (horser) not found\n",
      "The nearest words for it are: ['hoarser', 'horse', 'horsed', 'horses']\n",
      "\n",
      "\n",
      "Word (insta) not found\n",
      "The nearest words for it are: ['instal', 'instar', 'iata', 'ina']\n",
      "\n",
      "\n",
      "Word (google) not found\n",
      "The nearest words for it are: ['goggle', 'googly', 'goole', 'gaggle']\n",
      "\n",
      "\n",
      "Execution Time for function (spell_checking): 36.95813345909119\n",
      "\n",
      "\n",
      "Enter the word(s) you want to insert: solver, horser, insta, google\n",
      "you entered: ['solver', 'horser', 'insta', 'google']\n",
      "Word already found in the dictionary in the (4968) postition of letter (s)\n",
      "\n",
      "\n",
      "Enter your password to allow adding to the dictionary: authenticated_1\n",
      "(horser) successfully added to the dictionary in the (2234) postition of letter (h)\n",
      "The vocabulary in the (h) was 3016, but it becomes 3017\n",
      "\n",
      "\n",
      "(insta) successfully added to the dictionary in the (2260) postition of letter (i)\n",
      "The vocabulary in the (i) was 3521, but it becomes 3522\n",
      "\n",
      "\n",
      "(google) successfully added to the dictionary in the (1538) postition of letter (g)\n",
      "The vocabulary in the (g) was 2675, but it becomes 2676\n",
      "\n",
      "\n",
      "Execution Time for function (updating_dictionary): 13.9598069190979\n",
      "\n",
      "\n",
      "Enter the word(s) you want to remove: fofofo, horser, noter\n",
      "you entered: ['fofofo', 'horser', 'noter']\n",
      "Word (fofofo) not found\n",
      "\n",
      "\n",
      "Enter your password to allow removing from the dictionary: authenticated_1\n",
      "Word (horser) has been removed\n",
      "The vocabulary in the (h) was 3017, but it becomes 3016\n",
      "\n",
      "\n",
      "Word (noter) not found\n",
      "\n",
      "\n",
      "Execution Time for function (remove_vocab): 27.452325105667114\n",
      "\n",
      "\n",
      "The created dictionary is saved in saved_dic.txt.txt file\n",
      "\n",
      "\n",
      "Execution Time for function (remove_vocab): 0.7838122844696045\n",
      "\n",
      "\n",
      "Filename: C:\\Users\\Mustafa\\Desktop\\WIDEBOT INTERN\\Spelling Checker\\Spell_Checker.py\n",
      "\n",
      "Line #    Mem usage    Increment  Occurrences   Line Contents\n",
      "=============================================================\n",
      "   180 132.1055 MiB 132.1055 MiB           1       @profile(precision = 4)\n",
      "   181                                             def main(self, flag = [\"NULL\"], fname = \"saved_dic.txt\"):\n",
      "   182 132.1055 MiB   0.0000 MiB           8           flag = [word.lower() for word in flag]\n",
      "   183                                         \n",
      "   184 132.1055 MiB   0.0000 MiB           1           if \"create\" in flag:\n",
      "   185 132.1055 MiB   0.0000 MiB           1               start = time.time()\n",
      "   186 138.7109 MiB   6.6055 MiB           1               letter_to_words = self.create_dictionary_of_words(print_status = False)\n",
      "   187 138.7109 MiB   0.0000 MiB           1               print(f\"Execution Time for function (create_dictionary_of_words): {time.time() - start}\\n\\n\")\n",
      "   188                                         \n",
      "   189 138.7109 MiB   0.0000 MiB           1               if \"check\" in flag:\n",
      "   190 138.7109 MiB   0.0000 MiB           1                   start = time.time()\n",
      "   191 138.7188 MiB   0.0078 MiB           1                   self.spell_checking(letter_to_words)\n",
      "   192 138.7188 MiB   0.0000 MiB           1                   print(f\"Execution Time for function (spell_checking): {time.time() - start}\\n\\n\")\n",
      "   193                                         \n",
      "   194 138.7188 MiB   0.0000 MiB           1               if \"update\" in flag:\n",
      "   195 138.7188 MiB   0.0000 MiB           1                   start = time.time()\n",
      "   196 138.8125 MiB   0.0938 MiB           1                   updated_dic = self.updating_dictionary(letter_to_words)\n",
      "   197 138.8125 MiB   0.0000 MiB           1                   print(f\"Execution Time for function (updating_dictionary): {time.time() - start}\\n\\n\")\n",
      "   198                                         \n",
      "   199 138.8125 MiB   0.0000 MiB           1                   if \"remove\" in flag:\n",
      "   200 138.8125 MiB   0.0000 MiB           1                       start = time.time()\n",
      "   201 138.9414 MiB   0.1289 MiB           1                       self.remove_vocab(updated_dic)\n",
      "   202 138.9414 MiB   0.0000 MiB           1                       print(f\"Execution Time for function (remove_vocab): {time.time() - start}\\n\\n\")\n",
      "   203                                         \n",
      "   204 138.9414 MiB   0.0000 MiB           1                   if \"save\" in flag:\n",
      "   205 138.9414 MiB   0.0000 MiB           1                       start = time.time()\n",
      "   206 140.0508 MiB   1.1094 MiB           1                       self.save_dictionary_dict(updated_dic, fname)\n",
      "   207 140.0508 MiB   0.0000 MiB           1                       print(f\"Execution Time for function (remove_vocab): {time.time() - start}\\n\\n\")\n",
      "\n",
      "\n"
     ]
    }
   ],
   "source": [
    "dic_of_words = Spell_Checker().main([\"create\", \"check\", \"update\", \"remove\", \"save\"])"
   ]
  },
  {
   "cell_type": "code",
   "execution_count": null,
   "id": "ff3229d6",
   "metadata": {},
   "outputs": [],
   "source": []
  }
 ],
 "metadata": {
  "kernelspec": {
   "display_name": "Python 3 (ipykernel)",
   "language": "python",
   "name": "python3"
  },
  "language_info": {
   "codemirror_mode": {
    "name": "ipython",
    "version": 3
   },
   "file_extension": ".py",
   "mimetype": "text/x-python",
   "name": "python",
   "nbconvert_exporter": "python",
   "pygments_lexer": "ipython3",
   "version": "3.7.13"
  }
 },
 "nbformat": 4,
 "nbformat_minor": 5
}
