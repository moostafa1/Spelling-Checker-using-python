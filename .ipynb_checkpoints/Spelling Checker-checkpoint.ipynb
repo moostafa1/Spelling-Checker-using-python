{
 "cells": [
  {
   "cell_type": "markdown",
   "id": "12e6fe76",
   "metadata": {},
   "source": [
    "#### Using this [dictionary](https://drive.google.com/file/d/1auBxur3HUK0AOBq1pBQTcnXJtqgin9VF/view?usp=sharing), implement a spell checker class that takes this dictionary as input, this class has three main operations:\n",
    "- Store this dictionary in a suitable data structure.\n",
    "- Take an input word and return the nearest 4 words if this word is not in the dictionary\n",
    "- Take an input word and add this word to the dictionary\n",
    "\n",
    "For each operation specify the time and space complexity\n",
    "Note: You could assume that the nearest 4 words from a word are the 2 words before and \n",
    "after this word in lexicographic order if they exist"
   ]
  },
  {
   "cell_type": "code",
   "execution_count": 1,
   "id": "33d850f4",
   "metadata": {},
   "outputs": [],
   "source": [
    "from Spell_Checker import Spell_Checker"
   ]
  },
  {
   "cell_type": "code",
   "execution_count": 2,
   "id": "58d3132a",
   "metadata": {},
   "outputs": [],
   "source": [
    "create = Spell_Checker().create_dictionary_of_words()"
   ]
  },
  {
   "cell_type": "code",
   "execution_count": 3,
   "id": "3941d086",
   "metadata": {
    "scrolled": false
   },
   "outputs": [
    {
     "name": "stdout",
     "output_type": "stream",
     "text": [
      "words_per_letter: {'a': 5105, 'b': 4833, 'c': 8093, 'd': 5585, 'e': 3609, 'f': 3554, 'g': 2675, 'h': 3016, 'i': 3521, 'j': 806, 'k': 697, 'l': 2521, 'm': 4653, 'n': 1480, 'o': 2223, 'p': 6551, 'q': 447, 'r': 4891, 's': 9154, 't': 4207, 'u': 2671, 'v': 1371, 'w': 1963, 'x': 46, 'y': 231, 'z': 166}\n",
      "total_words_count: 84069\n",
      "Execution Time for function (words_per_letter): 0.0\n",
      "\n",
      "\n"
     ]
    }
   ],
   "source": [
    "create = Spell_Checker().create_dictionary_of_words(1)"
   ]
  },
  {
   "cell_type": "code",
   "execution_count": 4,
   "id": "bc9c47ad",
   "metadata": {},
   "outputs": [
    {
     "name": "stdout",
     "output_type": "stream",
     "text": [
      "words_per_letter: {'a': 5105, 'b': 4833, 'c': 8093, 'd': 5585, 'e': 3609, 'f': 3554, 'g': 2675, 'h': 3016, 'i': 3521, 'j': 806, 'k': 697, 'l': 2521, 'm': 4653, 'n': 1480, 'o': 2223, 'p': 6551, 'q': 447, 'r': 4891, 's': 9154, 't': 4207, 'u': 2671, 'v': 1371, 'w': 1963, 'x': 46, 'y': 231, 'z': 166}\n",
      "total_words_count: 84069\n",
      "Execution Time for function (words_per_letter): 0.0\n",
      "\n",
      "\n"
     ]
    },
    {
     "data": {
      "image/png": "[encoded data removed]",
      "text/plain": [
       "<Figure size 640x480 with 1 Axes>"
      ]
     },
     "metadata": {},
     "output_type": "display_data"
    },
    {
     "name": "stdout",
     "output_type": "stream",
     "text": [
      "Execution Time for function (plotting_letters_num): 0.752171516418457\n",
      "\n",
      "\n"
     ]
    }
   ],
   "source": [
    "create = Spell_Checker().create_dictionary_of_words(1, 1)"
   ]
  },
  {
   "cell_type": "code",
   "execution_count": 5,
   "id": "feb1bc03",
   "metadata": {},
   "outputs": [
    {
     "name": "stdout",
     "output_type": "stream",
     "text": [
      "words_per_letter: {'a': 5105, 'b': 4833, 'c': 8093, 'd': 5585, 'e': 3609, 'f': 3554, 'g': 2675, 'h': 3016, 'i': 3521, 'j': 806, 'k': 697, 'l': 2521, 'm': 4653, 'n': 1480, 'o': 2223, 'p': 6551, 'q': 447, 'r': 4891, 's': 9154, 't': 4207, 'u': 2671, 'v': 1371, 'w': 1963, 'x': 46, 'y': 231, 'z': 166}\n",
      "total_words_count: 84069\n"
     ]
    }
   ],
   "source": [
    "letter_to_words, _ = Spell_Checker(\"dictionary.txt\").words_per_letter(create)"
   ]
  },
  {
   "cell_type": "code",
   "execution_count": 6,
   "id": "daa6a5d0",
   "metadata": {},
   "outputs": [
    {
     "name": "stdout",
     "output_type": "stream",
     "text": [
      "{'a': 5105, 'b': 4833, 'c': 8093, 'd': 5585, 'e': 3609, 'f': 3554, 'g': 2675, 'h': 3016, 'i': 3521, 'j': 806, 'k': 697, 'l': 2521, 'm': 4653, 'n': 1480, 'o': 2223, 'p': 6551, 'q': 447, 'r': 4891, 's': 9154, 't': 4207, 'u': 2671, 'v': 1371, 'w': 1963, 'x': 46, 'y': 231, 'z': 166} <class 'dict'>\n"
     ]
    }
   ],
   "source": [
    "print(letter_to_words, type(letter_to_words))"
   ]
  },
  {
   "cell_type": "code",
   "execution_count": 7,
   "id": "08959468",
   "metadata": {},
   "outputs": [
    {
     "data": {
      "image/png": "[encoded data removed]",
      "text/plain": [
       "<Figure size 640x480 with 1 Axes>"
      ]
     },
     "metadata": {},
     "output_type": "display_data"
    }
   ],
   "source": [
    "Spell_Checker(\"dictionary.txt\").plotting_letters_num(letter_to_words)"
   ]
  },
  {
   "cell_type": "code",
   "execution_count": 8,
   "id": "171a435e",
   "metadata": {},
   "outputs": [
    {
     "name": "stdout",
     "output_type": "stream",
     "text": [
      "Enter the word(s) you want to search for: hamdy, moon\n",
      "you entered: ['hamdy', 'moon']\n",
      "Word (hamdy) not found\n",
      "The nearest words for it are: ['hammy', 'handy', 'hardy', 'had']\n",
      "\n",
      "\n",
      "Word (moon) already found in the dictionary in the (3749) postition of letter (m)\n",
      "\n",
      "\n"
     ]
    }
   ],
   "source": [
    "check = Spell_Checker(\"dictionary.txt\").spell_checking(create)"
   ]
  },
  {
   "cell_type": "code",
   "execution_count": 9,
   "id": "97eaee90",
   "metadata": {},
   "outputs": [
    {
     "name": "stdout",
     "output_type": "stream",
     "text": [
      "Enter the word(s) you want to search for: so, gooogle\n",
      "you entered: ['so', 'gooogle']\n",
      "Word (so) already found in the dictionary in the (4673) postition of letter (s)\n",
      "\n",
      "\n",
      "Word (gooogle) not found\n",
      "The nearest words for it are: ['goggle', 'googly', 'goole', 'gaggle']\n",
      "\n",
      "\n"
     ]
    }
   ],
   "source": [
    "check = Spell_Checker(\"dictionary.txt\").spell_checking(create)"
   ]
  },
  {
   "cell_type": "code",
   "execution_count": 10,
   "id": "80195908",
   "metadata": {},
   "outputs": [],
   "source": [
    "def is_added_to_dict(words_lst, old_dict, updated_dict):\n",
    "    words_lst = words_lst.split(\",\")\n",
    "    words_lst = [w.lower().strip() for w in words_lst]\n",
    "    for word in words_lst:\n",
    "        print(len(old_dict[word[0]]), len(updated_dict[word[0]]))\n",
    "        print(word in old_dict[word[0]], word in updated_dict[word[0]])"
   ]
  },
  {
   "cell_type": "code",
   "execution_count": 34,
   "id": "435de6c4",
   "metadata": {},
   "outputs": [
    {
     "name": "stdout",
     "output_type": "stream",
     "text": [
      "Enter the word(s) you want to insert: friends, dola, ramzy\n",
      "you entered: ['friends', 'dola', 'ramzy']\n",
      "Enter your password to allow adding to the dictionary: authenticated_1\n",
      "Word already found in the dictionary in the (3095) postition of letter (f)\n",
      "\n",
      "\n",
      "(dola) successfully added to the dictionary in the (4443) postition of letter (d)\n",
      "The vocabulary in the (d) was 5585, but it becomes 5586\n",
      "\n",
      "\n",
      "(ramzy) successfully added to the dictionary in the (323) postition of letter (r)\n",
      "The vocabulary in the (r) was 4891, but it becomes 4892\n",
      "\n",
      "\n"
     ]
    }
   ],
   "source": [
    "insert = Spell_Checker(\"dictionary.txt\").updating_dictionary(create)"
   ]
  },
  {
   "cell_type": "code",
   "execution_count": 42,
   "id": "7af1f55f",
   "metadata": {},
   "outputs": [
    {
     "name": "stdout",
     "output_type": "stream",
     "text": [
      "3554 3554\n",
      "True True\n",
      "5585 5586\n",
      "False True\n",
      "4891 4892\n",
      "False True\n"
     ]
    }
   ],
   "source": [
    "is_added_to_dict(\"friends, dola, ramzy\", create, insert)"
   ]
  },
  {
   "cell_type": "code",
   "execution_count": 12,
   "id": "5f5e5d99",
   "metadata": {},
   "outputs": [
    {
     "name": "stdout",
     "output_type": "stream",
     "text": [
      "Enter the word(s) you want to search for: famous, friends, dola, ramzy\n",
      "you entered: ['famous', 'friends', 'dola', 'ramzy']\n",
      "Word (famous) already found in the dictionary in the (277) postition of letter (f)\n",
      "\n",
      "\n",
      "Word (friends) already found in the dictionary in the (3095) postition of letter (f)\n",
      "\n",
      "\n",
      "Word (dola) not found\n",
      "The nearest words for it are: ['doha', 'dole', 'doli', 'doll']\n",
      "\n",
      "\n",
      "Word (ramzy) not found\n",
      "The nearest words for it are: ['racy', 'rainy', 'rally', 'ram']\n",
      "\n",
      "\n"
     ]
    }
   ],
   "source": [
    "Spell_Checker(\"dictionary.txt\").spell_checking(create)"
   ]
  },
  {
   "cell_type": "code",
   "execution_count": 13,
   "id": "d0f1aac5",
   "metadata": {},
   "outputs": [
    {
     "name": "stdout",
     "output_type": "stream",
     "text": [
      "Enter the word(s) you want to search for: friends, dola, ramzy\n",
      "you entered: ['friends', 'dola', 'ramzy']\n",
      "Word (friends) already found in the dictionary in the (3095) postition of letter (f)\n",
      "\n",
      "\n",
      "Word (dola) already found in the dictionary in the (4443) postition of letter (d)\n",
      "\n",
      "\n",
      "Word (ramzy) already found in the dictionary in the (323) postition of letter (r)\n",
      "\n",
      "\n"
     ]
    }
   ],
   "source": [
    "Spell_Checker(\"dictionary.txt\").spell_checking(insert)"
   ]
  },
  {
   "cell_type": "code",
   "execution_count": 46,
   "id": "7b7bcab4",
   "metadata": {},
   "outputs": [
    {
     "name": "stdout",
     "output_type": "stream",
     "text": [
      "Enter the word(s) you want to insert: sponge-bob, saltaa\n",
      "you entered: ['sponge-bob', 'saltaa']\n",
      "Enter your password to allow adding to the dictionary: authenticated_1\n",
      "Word already found in the dictionary in the (5813) postition of letter (s)\n",
      "\n",
      "\n",
      "Word already found in the dictionary in the (268) postition of letter (s)\n",
      "\n",
      "\n"
     ]
    }
   ],
   "source": [
    "insert = Spell_Checker(\"dictionary.txt\").updating_dictionary(insert)"
   ]
  },
  {
   "cell_type": "code",
   "execution_count": 47,
   "id": "668cd2c2",
   "metadata": {},
   "outputs": [
    {
     "name": "stdout",
     "output_type": "stream",
     "text": [
      "9154 9156\n",
      "False True\n",
      "9154 9156\n",
      "False True\n"
     ]
    }
   ],
   "source": [
    "is_added_to_dict(\"sponge-bob, saltaa\", create, insert)"
   ]
  },
  {
   "cell_type": "code",
   "execution_count": 16,
   "id": "7687fe32",
   "metadata": {},
   "outputs": [
    {
     "name": "stdout",
     "output_type": "stream",
     "text": [
      "Enter the word(s) you want to insert: hower, hoea\n",
      "you entered: ['hower', 'hoea']\n",
      "Enter your password to allow adding to the dictionary: authenticated_1\n",
      "(hower) successfully added to the dictionary in the (2416) postition of letter (h)\n",
      "The vocabulary in the (h) was 3016, but it becomes 3017\n",
      "\n",
      "\n",
      "(hoea) successfully added to the dictionary in the (1788) postition of letter (h)\n",
      "The vocabulary in the (h) was 3017, but it becomes 3018\n",
      "\n",
      "\n"
     ]
    }
   ],
   "source": [
    "insert = Spell_Checker(\"dictionary.txt\").updating_dictionary(insert)"
   ]
  },
  {
   "cell_type": "code",
   "execution_count": 48,
   "id": "383ab0c1",
   "metadata": {
    "scrolled": true
   },
   "outputs": [
    {
     "name": "stdout",
     "output_type": "stream",
     "text": [
      "Enter the word(s) you want to search for: hower, hoea\n",
      "you entered: ['hower', 'hoea']\n",
      "Word (hower) not found\n",
      "The nearest words for it are: ['hewer', 'homer', 'hover', 'howe']\n",
      "\n",
      "\n",
      "Word (hoea) not found\n",
      "The nearest words for it are: ['hoe', 'hoed', 'hoes', 'hora']\n",
      "\n",
      "\n"
     ]
    }
   ],
   "source": [
    "Spell_Checker().spell_checking(create)"
   ]
  },
  {
   "cell_type": "code",
   "execution_count": 50,
   "id": "103f6169",
   "metadata": {},
   "outputs": [
    {
     "name": "stdout",
     "output_type": "stream",
     "text": [
      "Enter the word(s) you want to search for: hower, hoea\n",
      "you entered: ['hower', 'hoea']\n",
      "Word (hower) not found\n",
      "The nearest words for it are: ['hewer', 'homer', 'hover', 'howe']\n",
      "\n",
      "\n",
      "Word (hoea) not found\n",
      "The nearest words for it are: ['hoe', 'hoed', 'hoes', 'hora']\n",
      "\n",
      "\n"
     ]
    }
   ],
   "source": [
    "Spell_Checker().spell_checking(insert)"
   ]
  },
  {
   "cell_type": "code",
   "execution_count": 51,
   "id": "bd4f4fc8",
   "metadata": {},
   "outputs": [
    {
     "name": "stdout",
     "output_type": "stream",
     "text": [
      "3016 3016\n",
      "False False\n",
      "3016 3016\n",
      "False False\n"
     ]
    }
   ],
   "source": [
    "is_added_to_dict(\"hower, hoea\", create, insert)"
   ]
  },
  {
   "cell_type": "code",
   "execution_count": 20,
   "id": "8a8489f6",
   "metadata": {},
   "outputs": [
    {
     "name": "stdout",
     "output_type": "stream",
     "text": [
      "The created dictionary is saved in updated_dictionary.txt file\n",
      "\n",
      "\n"
     ]
    }
   ],
   "source": [
    "Spell_Checker(\"dictionary.txt\").save_dictionary_dict(insert, \"updated_dictionary\")"
   ]
  },
  {
   "cell_type": "code",
   "execution_count": 21,
   "id": "d3021e14",
   "metadata": {},
   "outputs": [
    {
     "name": "stdout",
     "output_type": "stream",
     "text": [
      "words_per_letter: {'a': 5105, 'b': 4833, 'c': 8093, 'd': 5586, 'e': 3609, 'f': 3554, 'g': 2675, 'h': 3018, 'i': 3521, 'j': 806, 'k': 697, 'l': 2521, 'm': 4653, 'n': 1480, 'o': 2223, 'p': 6551, 'q': 447, 'r': 4892, 's': 9156, 't': 4207, 'u': 2671, 'v': 1371, 'w': 1963, 'x': 46, 'y': 231, 'z': 166}\n",
      "total_words_count: 84075\n",
      "Execution Time for function (words_per_letter): 0.0\n",
      "\n",
      "\n"
     ]
    }
   ],
   "source": [
    "loaded_dict = Spell_Checker(\"updated_dictionary.txt\").create_dictionary_of_words(1)"
   ]
  },
  {
   "cell_type": "code",
   "execution_count": 22,
   "id": "84deeb88",
   "metadata": {},
   "outputs": [
    {
     "name": "stdout",
     "output_type": "stream",
     "text": [
      "Enter the word(s) you want to search for: holder, happy\n",
      "you entered: ['holder', 'happy']\n",
      "Word (holder) already found in the dictionary in the (1821) postition of letter (h)\n",
      "\n",
      "\n",
      "Word (happy) already found in the dictionary in the (443) postition of letter (h)\n",
      "\n",
      "\n"
     ]
    }
   ],
   "source": [
    "check_loaded = Spell_Checker(\"updated_dictionary.txt\").spell_checking(loaded_dict)"
   ]
  },
  {
   "cell_type": "code",
   "execution_count": 23,
   "id": "914ea248",
   "metadata": {},
   "outputs": [
    {
     "data": {
      "text/plain": [
       "True"
      ]
     },
     "execution_count": 23,
     "metadata": {},
     "output_type": "execute_result"
    }
   ],
   "source": [
    "loaded_dict == insert"
   ]
  },
  {
   "cell_type": "code",
   "execution_count": 24,
   "id": "e69f3a47",
   "metadata": {},
   "outputs": [
    {
     "name": "stdout",
     "output_type": "stream",
     "text": [
      "Enter the word(s) you want to remove: sponge-bob, famous\n",
      "you entered: ['sponge-bob', 'famous']\n",
      "Enter your password to allow adding to the dictionary: authenticated_1\n",
      "Word (sponge-bob) has been removed\n",
      "The vocabulary in the (s) was 9156, but it becomes 9155\n",
      "\n",
      "\n",
      "Word (famous) has been removed\n",
      "The vocabulary in the (f) was 3554, but it becomes 3553\n",
      "\n",
      "\n"
     ]
    }
   ],
   "source": [
    "remove = Spell_Checker(\"dictionary.txt\").remove_vocab(insert)"
   ]
  },
  {
   "cell_type": "code",
   "execution_count": 25,
   "id": "51d46bff",
   "metadata": {},
   "outputs": [
    {
     "name": "stdout",
     "output_type": "stream",
     "text": [
      "Enter the word(s) you want to remove: remove, tomato\n",
      "you entered: ['remove', 'tomato']\n",
      "Enter your password to allow adding to the dictionary: authenticated_1\n",
      "Word (remove) has been removed\n",
      "The vocabulary in the (r) was 4892, but it becomes 4891\n",
      "\n",
      "\n",
      "Word (tomato) has been removed\n",
      "The vocabulary in the (t) was 4207, but it becomes 4206\n",
      "\n",
      "\n"
     ]
    }
   ],
   "source": [
    "remove = Spell_Checker(\"dictionary.txt\").remove_vocab(remove)"
   ]
  },
  {
   "cell_type": "code",
   "execution_count": 52,
   "id": "de36184a",
   "metadata": {},
   "outputs": [
    {
     "name": "stdout",
     "output_type": "stream",
     "text": [
      "4892 4891\n",
      "True False\n",
      "4207 4206\n",
      "True False\n"
     ]
    }
   ],
   "source": [
    "is_added_to_dict(\"remove, tomato\", insert, remove)"
   ]
  },
  {
   "cell_type": "code",
   "execution_count": 27,
   "id": "d4b7d3ae",
   "metadata": {},
   "outputs": [
    {
     "name": "stdout",
     "output_type": "stream",
     "text": [
      "Execution Time for function (create_dictionary_of_words): 0.49216151237487793\n",
      "\n",
      "\n",
      "Enter the word(s) you want to search for: hold, fold, bold\n",
      "you entered: ['hold', 'fold', 'bold']\n",
      "Word (hold) already found in the dictionary in the (1815) postition of letter (h)\n",
      "\n",
      "\n",
      "Word (fold) already found in the dictionary in the (2151) postition of letter (f)\n",
      "\n",
      "\n",
      "Word (bold) already found in the dictionary in the (2971) postition of letter (b)\n",
      "\n",
      "\n",
      "Execution Time for function (spell_checking): 16.476866960525513\n",
      "\n",
      "\n",
      "Enter the word(s) you want to insert: sponge-bob, masr\n",
      "you entered: ['sponge-bob', 'masr']\n",
      "Enter your password to allow adding to the dictionary: authenticated_1\n",
      "(sponge-bob) successfully added to the dictionary in the (5812) postition of letter (s)\n",
      "The vocabulary in the (s) was 9154, but it becomes 9155\n",
      "\n",
      "\n",
      "(masr) successfully added to the dictionary in the (1083) postition of letter (m)\n",
      "The vocabulary in the (m) was 4653, but it becomes 4654\n",
      "\n",
      "\n",
      "Execution Time for function (updating_dictionary): 47.33473825454712\n",
      "\n",
      "\n"
     ]
    }
   ],
   "source": [
    "Spell_Checker().main([\"create\", \"check\", \"update\"])"
   ]
  },
  {
   "cell_type": "code",
   "execution_count": 28,
   "id": "a20b0e07",
   "metadata": {},
   "outputs": [
    {
     "name": "stdout",
     "output_type": "stream",
     "text": [
      "Execution Time for function (create_dictionary_of_words): 0.29136013984680176\n",
      "\n",
      "\n",
      "Enter the word(s) you want to search for: sponge-bob, masr, release\n",
      "you entered: ['sponge-bob', 'masr', 'release']\n",
      "Word (sponge-bob) not found\n",
      "The nearest words for it are: ['sponge', 'sponged', 'sponger', 'spongers']\n",
      "\n",
      "\n",
      "Word (masr) not found\n",
      "The nearest words for it are: ['mar', 'maser', 'mash', 'mask']\n",
      "\n",
      "\n",
      "Word (release) already found in the dictionary in the (2203) postition of letter (r)\n",
      "\n",
      "\n",
      "Execution Time for function (spell_checking): 19.749516487121582\n",
      "\n",
      "\n",
      "Enter the word(s) you want to insert: sponge-bob, masr\n",
      "you entered: ['sponge-bob', 'masr']\n",
      "Enter your password to allow adding to the dictionary: authenticated_1\n",
      "(sponge-bob) successfully added to the dictionary in the (5812) postition of letter (s)\n",
      "The vocabulary in the (s) was 9154, but it becomes 9155\n",
      "\n",
      "\n",
      "(masr) successfully added to the dictionary in the (1083) postition of letter (m)\n",
      "The vocabulary in the (m) was 4653, but it becomes 4654\n",
      "\n",
      "\n",
      "Execution Time for function (updating_dictionary): 18.087228775024414\n",
      "\n",
      "\n",
      "Enter the word(s) you want to remove: sponge-bob, masr, kola\n",
      "you entered: ['sponge-bob', 'masr', 'kola']\n",
      "Enter your password to allow adding to the dictionary: authenticated_1\n",
      "Word (sponge-bob) has been removed\n",
      "The vocabulary in the (s) was 9155, but it becomes 9154\n",
      "\n",
      "\n",
      "Word (masr) has been removed\n",
      "The vocabulary in the (m) was 4654, but it becomes 4653\n",
      "\n",
      "\n",
      "Word (kola) has been removed\n",
      "The vocabulary in the (k) was 697, but it becomes 696\n",
      "\n",
      "\n",
      "Execution Time for function (remove_vocab): 23.59961986541748\n",
      "\n",
      "\n",
      "The created dictionary is saved in saved_dic.txt.txt file\n",
      "\n",
      "\n",
      "Execution Time for function (remove_vocab): 0.18125271797180176\n",
      "\n",
      "\n"
     ]
    }
   ],
   "source": [
    "Spell_Checker().main([\"create\", \"check\", \"update\", \"remove\", \"save\"])"
   ]
  },
  {
   "cell_type": "code",
   "execution_count": null,
   "id": "ff3229d6",
   "metadata": {},
   "outputs": [],
   "source": []
  }
 ],
 "metadata": {
  "kernelspec": {
   "display_name": "Python 3 (ipykernel)",
   "language": "python",
   "name": "python3"
  },
  "language_info": {
   "codemirror_mode": {
    "name": "ipython",
    "version": 3
   },
   "file_extension": ".py",
   "mimetype": "text/x-python",
   "name": "python",
   "nbconvert_exporter": "python",
   "pygments_lexer": "ipython3",
   "version": "3.7.13"
  }
 },
 "nbformat": 4,
 "nbformat_minor": 5
}
